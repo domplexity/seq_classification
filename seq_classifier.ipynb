{
 "cells": [
  {
   "cell_type": "code",
   "execution_count": 23,
   "metadata": {
    "collapsed": true
   },
   "outputs": [],
   "source": [
    "import tensorflow as tf\n",
    "import sqlite3\n",
    "import random"
   ]
  },
  {
   "cell_type": "code",
   "execution_count": 7,
   "metadata": {
    "collapsed": false
   },
   "outputs": [
    {
     "data": {
      "text/plain": [
       "[1, 3, 5, 7, 9]"
      ]
     },
     "execution_count": 7,
     "metadata": {},
     "output_type": "execute_result"
    }
   ],
   "source": [
    "range(1,10,2)"
   ]
  },
  {
   "cell_type": "code",
   "execution_count": 8,
   "metadata": {
    "collapsed": true
   },
   "outputs": [],
   "source": [
    "connection = sqlite3.connect('database.sqlite')\n",
    "cursor = connection.cursor()"
   ]
  },
  {
   "cell_type": "code",
   "execution_count": 20,
   "metadata": {
    "collapsed": false
   },
   "outputs": [],
   "source": [
    "ids = [row[0] for row in cursor.execute('SELECT Id FROM Reviews').fetchall()]"
   ]
  },
  {
   "cell_type": "code",
   "execution_count": 29,
   "metadata": {
    "collapsed": false
   },
   "outputs": [],
   "source": [
    "random.shuffle(ids)\n",
    "\n",
    "total_length = len(ids)\n",
    "train_length = int(total_length * 0.7)\n",
    "dev_length = int(total_length * 0.2)\n",
    "test_length = int(total_length * 0.1)\n",
    "\n",
    "train_ids = ids[:train_length]\n",
    "dev_ids = ids[train_length:train_length+dev_length]\n",
    "test_ids = ids[-test_length:]"
   ]
  },
  {
   "cell_type": "code",
   "execution_count": 40,
   "metadata": {
    "collapsed": true
   },
   "outputs": [],
   "source": [
    "def data_extractor(ids, batch_size, cursor):\n",
    "    for i in range(0,len(ids),batch_size):\n",
    "        selected_ids = ids[i:i+batch_size]\n",
    "        sql_statement = 'SELECT Id,Score, Text FROM Reviews WHERE Id IN ({0})'.format(','.join([str(id) for id in selected_ids]))\n",
    "        cursor.execute(sql_statement)\n",
    "        yield cursor.fetchall()      "
   ]
  },
  {
   "cell_type": "code",
   "execution_count": 19,
   "metadata": {
    "collapsed": false
   },
   "outputs": [
    {
     "data": {
      "text/plain": [
       "[(1,), (2,), (3,)]"
      ]
     },
     "execution_count": 19,
     "metadata": {},
     "output_type": "execute_result"
    }
   ],
   "source": [
    "cursor.execute('SELECT Id FROM Reviews WHERE Id IN (1, 2, 3)')\n",
    "cursor.fetchall()"
   ]
  },
  {
   "cell_type": "code",
   "execution_count": 34,
   "metadata": {
    "collapsed": false
   },
   "outputs": [
    {
     "data": {
      "text/plain": [
       "'SELECT Score, Text FROM Reviews WHERE Id IN (1,2)'"
      ]
     },
     "execution_count": 34,
     "metadata": {},
     "output_type": "execute_result"
    }
   ],
   "source": [
    "selected_ids = [1,2]\n",
    "'SELECT Score, Text FROM Reviews WHERE Id IN ({0})'.format(','.join([str(id) for id in selected_ids]))\n",
    "        "
   ]
  },
  {
   "cell_type": "code",
   "execution_count": 37,
   "metadata": {
    "collapsed": false
   },
   "outputs": [
    {
     "data": {
      "text/plain": [
       "[0]"
      ]
     },
     "execution_count": 37,
     "metadata": {},
     "output_type": "execute_result"
    }
   ],
   "source": [
    "range(0,10)[0:1]"
   ]
  },
  {
   "cell_type": "code",
   "execution_count": 42,
   "metadata": {
    "collapsed": true
   },
   "outputs": [],
   "source": [
    "iterator = data_extractor(train_ids[:100],5,cursor)"
   ]
  },
  {
   "cell_type": "code",
   "execution_count": 43,
   "metadata": {
    "collapsed": false
   },
   "outputs": [
    {
     "data": {
      "text/plain": [
       "[(118618,\n",
       "  5,\n",
       "  u\"these are the BEST! toast light to medium & even the crust is fantastic. Real good with coffee. I'm sad when these are not in my pantry\"),\n",
       " (210206,\n",
       "  5,\n",
       "  u'my vet has told me to buy the best pet food i could afford. that used to be iams. after working in a pet store, i discovered merrick. wow, what a difference in ingredients and only a few dollars more. now, all four of my dogs eat merrick wilderness blend dry. they love the taste. i like the natural ingredients. a great product.<br /><br />steph'),\n",
       " (278272,\n",
       "  5,\n",
       "  u\"my son loves to take these in his lunch for school.  Since he can't drink cows milk, this is a great alternative for him\"),\n",
       " (409345,\n",
       "  5,\n",
       "  u'I was so glad to find these raspberry candies available on Amazon.  They are rarely found in any stores near me.  They have always been a favorite of mine.  I suck off the little dots and then chew the jelly center, a double treat!  They came quickly and I will definitely order them again.  Thanks Amazon'),\n",
       " (476053,\n",
       "  4,\n",
       "  u'Love this product and enjoy the varied selection. This makes having a great selection of healthy snacks on hand much easier.')]"
      ]
     },
     "execution_count": 43,
     "metadata": {},
     "output_type": "execute_result"
    }
   ],
   "source": [
    "iterator.next()"
   ]
  },
  {
   "cell_type": "code",
   "execution_count": null,
   "metadata": {
    "collapsed": true
   },
   "outputs": [],
   "source": []
  }
 ],
 "metadata": {
  "kernelspec": {
   "display_name": "Python (for tensorflow)",
   "language": "python",
   "name": "python-tf"
  },
  "language_info": {
   "codemirror_mode": {
    "name": "ipython",
    "version": 2
   },
   "file_extension": ".py",
   "mimetype": "text/x-python",
   "name": "python",
   "nbconvert_exporter": "python",
   "pygments_lexer": "ipython2",
   "version": "2.7.12"
  }
 },
 "nbformat": 4,
 "nbformat_minor": 0
}
